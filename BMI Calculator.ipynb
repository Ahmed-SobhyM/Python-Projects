{
 "cells": [
  {
   "cell_type": "code",
   "execution_count": 16,
   "id": "a6089c31",
   "metadata": {},
   "outputs": [],
   "source": [
    "# There's no \"perfect weight\" that fits everyone.\n",
    "# BMI, or body mass index, measures how healthy your weight is based on how tall you are.\n",
    "# It gives you a clue to your risk for weight-related health problems"
   ]
  },
  {
   "cell_type": "code",
   "execution_count": 17,
   "id": "ac8190b2",
   "metadata": {},
   "outputs": [
    {
     "name": "stdout",
     "output_type": "stream",
     "text": [
      "Enter your name: Ahmed\n",
      "Enter your weight in Pounds: 170\n",
      "Enter your height in inches: 69\n",
      "25.101869355177485\n",
      "Ahmed, you are Overweight.\n"
     ]
    }
   ],
   "source": [
    "name = input(\"Enter your name: \")\n",
    "\n",
    "weight = int(input(\"Enter your weight in Pounds: \"))\n",
    "\n",
    "height = int(input(\"Enter your height in inches: \"))\n",
    "\n",
    "BMI = (weight * 703) / (height * height)\n",
    "\n",
    "print(BMI)\n",
    "\n",
    "if(BMI>0):\n",
    "    if(BMI<18.5):\n",
    "        print(name + \", you are Underweight.\")\n",
    "    elif(BMI<=24.9):\n",
    "        print(name + \", you are Normal Weight.\")\n",
    "    elif(BMI<=29.9):\n",
    "        print(name + \", you are Overweight.\")\n",
    "    elif(BMI<=34.9):\n",
    "        print(name + \", you are Obese.\")\n",
    "    elif(BMI<=39.9):\n",
    "        print(name + \", you are Severely Obese.\")\n",
    "    else:\n",
    "        print(name + \", you are Morbidly Obese.\")\n",
    "else:\n",
    "    print(\"Enter valid inputs\")"
   ]
  }
 ],
 "metadata": {
  "kernelspec": {
   "display_name": "Python 3 (ipykernel)",
   "language": "python",
   "name": "python3"
  },
  "language_info": {
   "codemirror_mode": {
    "name": "ipython",
    "version": 3
   },
   "file_extension": ".py",
   "mimetype": "text/x-python",
   "name": "python",
   "nbconvert_exporter": "python",
   "pygments_lexer": "ipython3",
   "version": "3.10.9"
  }
 },
 "nbformat": 4,
 "nbformat_minor": 5
}
